{
 "cells": [
  {
   "cell_type": "code",
   "execution_count": 13,
   "metadata": {},
   "outputs": [
    {
     "name": "stdout",
     "output_type": "stream",
     "text": [
      "나\n",
      "는\n",
      "킹\n",
      "왕\n",
      "짱\n",
      "이\n",
      "다\n",
      ".\n",
      "나\n",
      "는\n",
      "킹\n"
     ]
    }
   ],
   "source": [
    "'''\n",
    "작성자: damacho\n",
    "라이센스: 닫힘\n",
    "'''\n",
    "def kingoftheWorld(n):\n",
    "    cnt = 0\n",
    "    sentence = \"나는킹왕짱이다.\"\n",
    "    while cnt <= n:\n",
    "        print(sentence[cnt % len(sentence)])\n",
    "        cnt += 1\n",
    "        \n",
    "if __name__=='__main__':\n",
    "    kingoftheWorld(10)"
   ]
  },
  {
   "cell_type": "code",
   "execution_count": 2,
   "metadata": {},
   "outputs": [
    {
     "name": "stdout",
     "output_type": "stream",
     "text": [
      "*\n",
      "**\n",
      "***\n",
      "****\n",
      "*****\n",
      "******\n",
      "*******\n",
      "********\n",
      "*********\n"
     ]
    }
   ],
   "source": [
    "\"\"\"\n",
    "작성자 : homekeeper\n",
    "라이센스: 라이코스\n",
    "\n",
    "\"\"\"\n",
    "def lamb_da():\n",
    "    for i in range(1, 10):\n",
    "        print( \"*\" * i)\n",
    "\n",
    "        \n",
    "if __name__ =='__main__':\n",
    "    lamb_da();"
   ]
  }
 ],
 "metadata": {
  "kernelspec": {
   "display_name": "Python 3",
   "language": "python",
   "name": "python3"
  },
  "language_info": {
   "codemirror_mode": {
    "name": "ipython",
    "version": 3
   },
   "file_extension": ".py",
   "mimetype": "text/x-python",
   "name": "python",
   "nbconvert_exporter": "python",
   "pygments_lexer": "ipython3",
   "version": "3.6.2"
  }
 },
 "nbformat": 4,
 "nbformat_minor": 2
}
